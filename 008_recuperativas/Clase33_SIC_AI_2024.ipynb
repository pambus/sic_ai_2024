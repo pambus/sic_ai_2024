{
  "cells": [
    {
      "cell_type": "markdown",
      "metadata": {
        "id": "view-in-github",
        "colab_type": "text"
      },
      "source": [
        "<a href=\"https://colab.research.google.com/github/davidlealo/sic_ai_2024/blob/main/008_recuperativas/Clase33_SIC_AI_2024.ipynb\" target=\"_parent\"><img src=\"https://colab.research.google.com/assets/colab-badge.svg\" alt=\"Open In Colab\"/></a>"
      ]
    },
    {
      "cell_type": "markdown",
      "metadata": {
        "id": "4wACGZnKqY9I"
      },
      "source": [
        "# Clase 33: Estado de los proyectos"
      ]
    },
    {
      "cell_type": "markdown",
      "metadata": {
        "id": "s6AojbNrqcFb"
      },
      "source": [
        "##EconomIA\n",
        "\n",
        "### Carpeta Proyecto\n",
        "[EconomIA](./EconomIA/)\n",
        "\n",
        "### Integrantes:\n",
        "- Líder del equipo: Igor Fernandez\n",
        "- Eva Ponce: Desarrolladora\n",
        "- Javier Retamal: Desarrollador\n",
        "- Kiara Villarroel: Desarrolladora\n",
        "- Juan Ignacio: Desarrollador\n",
        "- Ignacio Cruz: Desarrollador\n",
        "- Catalina Evans: Coordinadora\n",
        "\n",
        "\n",
        "\n",
        "####Objetivo:\n",
        "Crear una plataforma digital que permita a usuarios registrar sus movimientos bancarios para visualizar y controlar mejor sus gastos, mediante predicciones, alertas y consejos por parte de la plataforma\n",
        "\n",
        "####Resumen:\n",
        "EconomIA busca permitir a usuarios llevar un orden de sus finanzas personales, categorizando sus tipos de gasto y orientando la responsabilidad y sanidad financiera a través de recomendaciones procedentes de un previo entrenamiento a la IA.\n",
        "\n",
        "EconomIA es una plataforma digital que promueve el orden financiero de una persona. Considerando sus gastos mensuales, es capaz de entregar una estructura que le permita al usuario visualizar, clasificar y proyectar sus gastos para aprender la mejor forma de ordenarlos.\n",
        "\n",
        "####Método.\n",
        "En términos de organización, el equipo aplica la metodología ágil SCRUM dentro de lo posible, cumpliendo con reuniones semanales y un registro de tareas por Hitos de 2 semanas.  \n",
        "\n",
        "####Datos.\n",
        "Hasta ahora hemos descargado nuestros propios datos bancarios como sujetos de testeo de las funcionalidades que esperamos crear. Descargamos los PDF y en algunos casos los excel, desde nuestros respectivos bancos, y ordenamos los datos y sus categorizaciones de forma manual.  \n",
        "\n",
        "####Resultados.\n",
        "Esperamos poder tener un prototipo funcional que sea capaz de identificar los gasto que genera los usuarios y clasificarlo dependiendo de sus ingresos y donde lo compra.\n",
        "Los beneficios de ocupar EconomIA para los usuarios es bastante diversificado, lo principal sería el cómo gestionar el dinero, saber cómo lo gestiona y cómo ahorrar.\n",
        "\n",
        "\n",
        "[link a drive](https://docs.google.com/spreadsheets/d/1-lYk132ny9_55goQT4cQBfjHVj37SfPahOb4XwklWiU/edit?usp=sharing)"
      ]
    },
    {
      "cell_type": "markdown",
      "metadata": {
        "id": "xGBzNUO8qpAf"
      },
      "source": [
        "##Picaduras\n",
        "\n",
        "### Carpeta Proyecto\n",
        "[Picaduras](./Picaduras/)\n",
        "\n",
        "### Integrantes:\n",
        "- Amanda Pares: Desarrolladora\n",
        "- María Paulina Salinas: Dataset, Preprocesamiento y modelo\n",
        "- Mariela Ubilla: Investigación\n",
        "- Yael Hasson: Investigación\n",
        "- Constanza Toro: Desarrolladora\n",
        "\n",
        "\n",
        "\n",
        "####Objetivo:\n",
        "Desarrollar una aplicación impulsada por inteligencia artificial que, mediante el uso de la cámara de un dispositivo móvil, sea capaz de detectar de manera automática la presencia de picaduras de insectos en la piel, específicamente en el brazo, utilizando modelos de detección avanzados como YOLO y Ultralytics. La aplicación busca facilitar la identificación temprana de picaduras para promover un tratamiento adecuado y reducir posibles complicaciones.\n",
        "\n",
        "####Resumen:\n",
        "El proyecto PICADURAS busca desarrollar una inteligencia artificial capaz de reconocer la presencia de picaduras de insectos en la piel. Utilizando herramientas como Roboflow, YOLO (You Only Look Once) y Ultralytics, el modelo se entrenará para identificar picaduras a partir de imágenes. El desarrollo de este proyecto combina tecnologías de Python y JavaScript, con el objetivo de crear una aplicación móvil que, al acceder a la cámara del dispositivo, pueda analizar en tiempo real la piel de una persona, detectando picaduras, específicamente en el brazo. Esto permitirá una detección rápida y eficaz, facilitando el cuidado y tratamiento de las picaduras de insectos.\n",
        "  \n",
        "\n",
        "####Datos.\n",
        "https://universe.roboflow.com/object-detection-ttfpu/bug-bites\n",
        "\n",
        "####Resultados.\n",
        "Desarrollar una aplicación funcional que, al acceder a la cámara de un dispositivo móvil, sea capaz de reconocer automáticamente la presencia de picaduras de insectos en la piel, específicamente en el brazo, mediante el uso de modelos de inteligencia artificial entrenados. La app será capaz de ofrecer detecciones precisas y en tiempo real, facilitando la identificación rápida de picaduras para que los usuarios puedan tomar acciones preventivas o buscar tratamiento adecuado.\n",
        "\n",
        "\n"
      ]
    },
    {
      "cell_type": "code",
      "source": [],
      "metadata": {
        "id": "LPmAFFppvydN"
      },
      "execution_count": null,
      "outputs": []
    }
  ],
  "metadata": {
    "colab": {
      "provenance": [],
      "include_colab_link": true
    },
    "language_info": {
      "name": "python"
    }
  },
  "nbformat": 4,
  "nbformat_minor": 0
}