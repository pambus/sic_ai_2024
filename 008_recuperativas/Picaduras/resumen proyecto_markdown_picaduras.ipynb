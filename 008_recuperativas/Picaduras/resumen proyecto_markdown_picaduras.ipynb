{
 "cells": [
  {
   "cell_type": "code",
   "execution_count": null,
   "metadata": {},
   "outputs": [],
   "source": [
    "Una IA/modelo que reconozca picaduras, es decir, que reconozca la presencia de picaduras de insecto.\n",
    "Esto, usando roboflow, yolo y ultralytics, pyhton y javascript para su desarrollo, \n",
    "la idea es generar una app que con accder a la cámara reconozca la presencia de picadura en el brazo.\n",
    "\n",
    "Amanda: Desarrolladora\n",
    "Pauli: Dataset, Preprocesamiento y modelo\n",
    "Mariela: Investigación\n",
    "Yael: Investigación\n",
    "Constanza: Desarrolladora\n",
    "\n",
    "dataset: https://universe.roboflow.com/object-detection-ttfpu/bug-bites"
   ]
  }
 ],
 "metadata": {
  "language_info": {
   "name": "python"
  }
 },
 "nbformat": 4,
 "nbformat_minor": 2
}
